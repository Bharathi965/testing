{
 "cells": [
  {
   "cell_type": "markdown",
   "id": "07484853-411b-47bd-b4b2-740245775932",
   "metadata": {},
   "source": [
    "# By jupiter notebook abd watson studio"
   ]
  },
  {
   "cell_type": "markdown",
   "id": "da84cc11-5f11-4061-a3d7-86f3ba57a858",
   "metadata": {},
   "source": [
    "**Bharathi D**\n",
    "\n",
    "data scientist\n"
   ]
  },
  {
   "cell_type": "markdown",
   "id": "da41602f-ac51-47c1-9ca2-af43b4ad8eee",
   "metadata": {},
   "source": [
    "*I am interested in data science because i wanted to know about the data get stored by cloud computing and how its work and how it can be stored safely*"
   ]
  },
  {
   "cell_type": "markdown",
   "id": "7ffb322e-8193-4820-9116-4f0de81c1b27",
   "metadata": {},
   "source": [
    "### by taking a number we need to do n%2==0 so its get zero it says it is even or else it says it odd number"
   ]
  },
  {
   "cell_type": "code",
   "execution_count": 1,
   "id": "d6787463-1f17-4f0c-bedf-2fbb43674ccb",
   "metadata": {},
   "outputs": [
    {
     "name": "stdin",
     "output_type": "stream",
     "text": [
      "enter a number 2\n"
     ]
    },
    {
     "name": "stdout",
     "output_type": "stream",
     "text": [
      "it is even number\n"
     ]
    }
   ],
   "source": [
    "a=int(input(\"enter a number\"))\n",
    "if(a%2==0):\n",
    "    print(\"it is even number\")\n",
    "else:\n",
    "    print(\"it is odd number\")\n",
    "\n"
   ]
  },
  {
   "cell_type": "code",
   "execution_count": null,
   "id": "be43a118-d699-477b-bf90-f56b66198478",
   "metadata": {},
   "outputs": [],
   "source": [
    "1.data scientist\n",
    "2.data engineer\n",
    "3.cloud computing \n",
    "[ link to google page](https://www.google.com)\n",
    "Inline-style: \n",
    "![alt text](https://github.com/adam-p/markdown-here/raw/master/s\n",
    "\n",
    "\n"
   ]
  }
 ],
 "metadata": {
  "kernelspec": {
   "display_name": "Python",
   "language": "python",
   "name": "conda-env-python-py"
  },
  "language_info": {
   "codemirror_mode": {
    "name": "ipython",
    "version": 3
   },
   "file_extension": ".py",
   "mimetype": "text/x-python",
   "name": "python",
   "nbconvert_exporter": "python",
   "pygments_lexer": "ipython3",
   "version": "3.7.12"
  }
 },
 "nbformat": 4,
 "nbformat_minor": 5
}
